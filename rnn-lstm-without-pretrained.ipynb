{
  "nbformat": 4,
  "nbformat_minor": 0,
  "metadata": {
    "colab": {
      "name": "Untitled16.ipynb",
      "provenance": [],
      "collapsed_sections": [],
      "authorship_tag": "ABX9TyN7QoFlkwQSKnncSzsCdrZN",
      "include_colab_link": true
    },
    "kernelspec": {
      "name": "python3",
      "display_name": "Python 3"
    }
  },
  "cells": [
    {
      "cell_type": "markdown",
      "metadata": {
        "id": "view-in-github",
        "colab_type": "text"
      },
      "source": [
        "<a href=\"https://colab.research.google.com/github/rohanreddych/stuff/blob/master/rnn-lstm-without-pretrained.ipynb\" target=\"_parent\"><img src=\"https://colab.research.google.com/assets/colab-badge.svg\" alt=\"Open In Colab\"/></a>"
      ]
    },
    {
      "cell_type": "code",
      "metadata": {
        "id": "jeuapbIrqQfV",
        "colab_type": "code",
        "colab": {}
      },
      "source": [
        "import tensorflow as tf\n",
        "import matplotlib.pyplot as plt"
      ],
      "execution_count": null,
      "outputs": []
    },
    {
      "cell_type": "code",
      "metadata": {
        "id": "Wkp-4zh1M0zJ",
        "colab_type": "code",
        "colab": {}
      },
      "source": [
        "from tensorflow.keras.datasets import imdb\n",
        "from tensorflow.keras.preprocessing.sequence import pad_sequences\n",
        "import tensorflow_datasets as tfds\n",
        "from tensorflow.keras import layers"
      ],
      "execution_count": null,
      "outputs": []
    },
    {
      "cell_type": "code",
      "metadata": {
        "id": "wudyyDyTg0f6",
        "colab_type": "code",
        "colab": {
          "base_uri": "https://localhost:8080/",
          "height": 455
        },
        "outputId": "f146d31e-161f-413b-a424-7f5062e151ab"
      },
      "source": [
        "!wget http://mng.bz/0tIo --no-check-certificate"
      ],
      "execution_count": null,
      "outputs": [
        {
          "output_type": "stream",
          "text": [
            "--2020-06-23 05:51:18--  http://mng.bz/0tIo\n",
            "Resolving mng.bz (mng.bz)... 35.166.24.88\n",
            "Connecting to mng.bz (mng.bz)|35.166.24.88|:80... connected.\n",
            "HTTP request sent, awaiting response... 301 Moved Permanently\n",
            "Location: https://mng.bz/0tIo [following]\n",
            "--2020-06-23 05:51:18--  https://mng.bz/0tIo\n",
            "Connecting to mng.bz (mng.bz)|35.166.24.88|:443... connected.\n",
            "WARNING: cannot verify mng.bz's certificate, issued by ‘CN=Go Daddy Secure Certificate Authority - G2,OU=http://certs.godaddy.com/repository/,O=GoDaddy.com\\\\, Inc.,L=Scottsdale,ST=Arizona,C=US’:\n",
            "  Unable to locally verify the issuer's authority.\n",
            "HTTP request sent, awaiting response... 301 \n",
            "Location: http://s3.amazonaws.com/text-datasets/aclImdb.zip [following]\n",
            "--2020-06-23 05:51:19--  http://s3.amazonaws.com/text-datasets/aclImdb.zip\n",
            "Resolving s3.amazonaws.com (s3.amazonaws.com)... 52.216.25.214\n",
            "Connecting to s3.amazonaws.com (s3.amazonaws.com)|52.216.25.214|:80... connected.\n",
            "HTTP request sent, awaiting response... 200 OK\n",
            "Length: 60711700 (58M) [application/zip]\n",
            "Saving to: ‘0tIo’\n",
            "\n",
            "0tIo                100%[===================>]  57.90M  23.7MB/s    in 2.4s    \n",
            "\n",
            "2020-06-23 05:51:22 (23.7 MB/s) - ‘0tIo’ saved [60711700/60711700]\n",
            "\n"
          ],
          "name": "stdout"
        }
      ]
    },
    {
      "cell_type": "code",
      "metadata": {
        "id": "Cc7hA1FzhntR",
        "colab_type": "code",
        "colab": {}
      },
      "source": [
        "!mv 0tIo data.zip"
      ],
      "execution_count": null,
      "outputs": []
    },
    {
      "cell_type": "code",
      "metadata": {
        "id": "TfSx2y-Ag_gz",
        "colab_type": "code",
        "colab": {}
      },
      "source": [
        "!unzip data.zip"
      ],
      "execution_count": null,
      "outputs": []
    },
    {
      "cell_type": "code",
      "metadata": {
        "id": "BNZw6jqGh6B3",
        "colab_type": "code",
        "colab": {}
      },
      "source": [
        "import re\n",
        "\n",
        "def cleanhtml(raw_html):\n",
        "  cleanr = re.compile('<.*?>|&([a-z0-9]+|#[0-9]{1,6}|#x[0-9a-f]{1,6});')\n",
        "  cleantext = re.sub(cleanr, '', raw_html)\n",
        "  return cleantext"
      ],
      "execution_count": null,
      "outputs": []
    },
    {
      "cell_type": "code",
      "metadata": {
        "id": "B4FRbWKv2bdH",
        "colab_type": "code",
        "colab": {
          "base_uri": "https://localhost:8080/",
          "height": 36
        },
        "outputId": "851c4e7c-b70b-4084-ff0f-94c3e6efaa97"
      },
      "source": [
        "print(len(os.listdir(\"aclImdb/train/neg\")), len(os.listdir(\"aclImdb/train/pos\")))"
      ],
      "execution_count": null,
      "outputs": [
        {
          "output_type": "stream",
          "text": [
            "12500 12500\n"
          ],
          "name": "stdout"
        }
      ]
    },
    {
      "cell_type": "code",
      "metadata": {
        "id": "WIflzZqvh6gK",
        "colab_type": "code",
        "colab": {}
      },
      "source": [
        "import os\n",
        "labels = []\n",
        "texts = []\n",
        "for i in os.listdir(\"/content/aclImdb/train/neg\"):\n",
        "    f = open(\"/content/aclImdb/train/neg/\"+i, \"r\")\n",
        "    str1 = f.read()\n",
        "    str1 = cleanhtml(str1)\n",
        "    texts.append(str1)\n",
        "    labels.append(0)\n",
        "for i in os.listdir(\"/content/aclImdb/train/pos\"):\n",
        "    f = open(\"/content/aclImdb/train/pos/\"+i, \"r\")\n",
        "    str1 = f.read()\n",
        "    str1 = cleanhtml(str1)\n",
        "    texts.append(str1)\n",
        "    labels.append(1)"
      ],
      "execution_count": null,
      "outputs": []
    },
    {
      "cell_type": "code",
      "metadata": {
        "id": "oe4NXq1i9GiR",
        "colab_type": "code",
        "colab": {}
      },
      "source": [
        "max_features = 10000\n",
        "max_len = 120"
      ],
      "execution_count": null,
      "outputs": []
    },
    {
      "cell_type": "code",
      "metadata": {
        "id": "tjZSTH4fv2v8",
        "colab_type": "code",
        "colab": {}
      },
      "source": [
        "from tensorflow.keras.preprocessing.text import Tokenizer\n",
        "tokenizer = Tokenizer(num_words=10000)"
      ],
      "execution_count": null,
      "outputs": []
    },
    {
      "cell_type": "code",
      "metadata": {
        "id": "FzGfLFkamXHV",
        "colab_type": "code",
        "colab": {}
      },
      "source": [
        "tokenizer.fit_on_texts(texts)\n",
        "data = tokenizer.texts_to_sequences(texts)"
      ],
      "execution_count": null,
      "outputs": []
    },
    {
      "cell_type": "code",
      "metadata": {
        "id": "b6sthpp00Xon",
        "colab_type": "code",
        "colab": {}
      },
      "source": [
        "tokenizer.word_index"
      ],
      "execution_count": null,
      "outputs": []
    },
    {
      "cell_type": "code",
      "metadata": {
        "id": "piQ6AwLfwamm",
        "colab_type": "code",
        "colab": {}
      },
      "source": [
        "from tensorflow.keras.preprocessing.sequence import pad_sequences\n",
        "data = pad_sequences(data, maxlen=max_len)"
      ],
      "execution_count": null,
      "outputs": []
    },
    {
      "cell_type": "code",
      "metadata": {
        "id": "Ppf_7yyWBJOl",
        "colab_type": "code",
        "colab": {
          "base_uri": "https://localhost:8080/",
          "height": 207
        },
        "outputId": "7565f52a-9a81-4d1d-a7a6-71c742401625"
      },
      "source": [
        "#without pretrained embeddings\n",
        "from tensorflow.keras import layers\n",
        "from tensorflow.keras.models import Sequential\n",
        "model = tf.keras.models.Sequential()\n",
        "model.add(layers.Embedding(max_features, 64, input_length=120))\n",
        "model.summary()"
      ],
      "execution_count": 72,
      "outputs": [
        {
          "output_type": "stream",
          "text": [
            "Model: \"sequential_6\"\n",
            "_________________________________________________________________\n",
            "Layer (type)                 Output Shape              Param #   \n",
            "=================================================================\n",
            "embedding_6 (Embedding)      (None, 120, 64)           640000    \n",
            "=================================================================\n",
            "Total params: 640,000\n",
            "Trainable params: 640,000\n",
            "Non-trainable params: 0\n",
            "_________________________________________________________________\n"
          ],
          "name": "stdout"
        }
      ]
    },
    {
      "cell_type": "code",
      "metadata": {
        "id": "zN2HqgwpDKIg",
        "colab_type": "code",
        "colab": {}
      },
      "source": [
        "model.add(layers.SimpleRNN(64))"
      ],
      "execution_count": null,
      "outputs": []
    },
    {
      "cell_type": "code",
      "metadata": {
        "id": "t0xjeShjDQFe",
        "colab_type": "code",
        "colab": {
          "base_uri": "https://localhost:8080/",
          "height": 245
        },
        "outputId": "92671ae8-2817-4571-e25c-bdb6c4bdeb4a"
      },
      "source": [
        "model.summary()"
      ],
      "execution_count": null,
      "outputs": [
        {
          "output_type": "stream",
          "text": [
            "Model: \"sequential_5\"\n",
            "_________________________________________________________________\n",
            "Layer (type)                 Output Shape              Param #   \n",
            "=================================================================\n",
            "embedding_5 (Embedding)      (None, 120, 64)           640000    \n",
            "_________________________________________________________________\n",
            "simple_rnn (SimpleRNN)       (None, 64)                8256      \n",
            "=================================================================\n",
            "Total params: 648,256\n",
            "Trainable params: 648,256\n",
            "Non-trainable params: 0\n",
            "_________________________________________________________________\n"
          ],
          "name": "stdout"
        }
      ]
    },
    {
      "cell_type": "code",
      "metadata": {
        "id": "Wl7pZhqfDaAf",
        "colab_type": "code",
        "colab": {
          "base_uri": "https://localhost:8080/",
          "height": 283
        },
        "outputId": "c9fe9814-e614-40a1-fbc2-678f13e984e3"
      },
      "source": [
        "model.add(layers.Dense(1, activation=\"sigmoid\"))\n",
        "model.summary()"
      ],
      "execution_count": null,
      "outputs": [
        {
          "output_type": "stream",
          "text": [
            "Model: \"sequential_5\"\n",
            "_________________________________________________________________\n",
            "Layer (type)                 Output Shape              Param #   \n",
            "=================================================================\n",
            "embedding_5 (Embedding)      (None, 120, 64)           640000    \n",
            "_________________________________________________________________\n",
            "simple_rnn (SimpleRNN)       (None, 64)                8256      \n",
            "_________________________________________________________________\n",
            "dense (Dense)                (None, 1)                 65        \n",
            "=================================================================\n",
            "Total params: 648,321\n",
            "Trainable params: 648,321\n",
            "Non-trainable params: 0\n",
            "_________________________________________________________________\n"
          ],
          "name": "stdout"
        }
      ]
    },
    {
      "cell_type": "code",
      "metadata": {
        "id": "m3uyPb0YDlYJ",
        "colab_type": "code",
        "colab": {}
      },
      "source": [
        "model.compile(loss=\"binary_crossentropy\", optimizer=\"rmsprop\", metrics=[\"accuracy\"])"
      ],
      "execution_count": null,
      "outputs": []
    },
    {
      "cell_type": "code",
      "metadata": {
        "id": "-T5GE8DHDk2T",
        "colab_type": "code",
        "colab": {}
      },
      "source": [
        "_S = _S.shuffle(100)"
      ],
      "execution_count": null,
      "outputs": []
    },
    {
      "cell_type": "code",
      "metadata": {
        "id": "cSTALUEcELIN",
        "colab_type": "code",
        "colab": {}
      },
      "source": [
        "import numpy as np\n",
        "data = np.asarray(data)\n",
        "labels = np.asarray(labels)"
      ],
      "execution_count": null,
      "outputs": []
    },
    {
      "cell_type": "code",
      "metadata": {
        "id": "8qAdQWglDkZc",
        "colab_type": "code",
        "colab": {
          "base_uri": "https://localhost:8080/",
          "height": 416
        },
        "outputId": "dff264c6-2a57-4149-917d-24dc51fae6d4"
      },
      "source": [
        "model.fit(data, labels,batch_size=64, epochs=10, validation_split=0.3)"
      ],
      "execution_count": null,
      "outputs": [
        {
          "output_type": "stream",
          "text": [
            "Epoch 1/10\n",
            "274/274 [==============================] - 12s 43ms/step - loss: 0.5262 - accuracy: 0.7514 - val_loss: 0.4825 - val_accuracy: 0.7852\n",
            "Epoch 2/10\n",
            "274/274 [==============================] - 11s 42ms/step - loss: 0.3212 - accuracy: 0.8699 - val_loss: 0.7988 - val_accuracy: 0.6229\n",
            "Epoch 3/10\n",
            "274/274 [==============================] - 12s 43ms/step - loss: 0.2201 - accuracy: 0.9149 - val_loss: 0.8560 - val_accuracy: 0.6149\n",
            "Epoch 4/10\n",
            "274/274 [==============================] - 11s 42ms/step - loss: 0.1248 - accuracy: 0.9546 - val_loss: 0.8870 - val_accuracy: 0.6691\n",
            "Epoch 5/10\n",
            "274/274 [==============================] - 11s 42ms/step - loss: 0.0589 - accuracy: 0.9797 - val_loss: 1.2313 - val_accuracy: 0.5940\n",
            "Epoch 6/10\n",
            "274/274 [==============================] - 12s 42ms/step - loss: 0.0294 - accuracy: 0.9899 - val_loss: 1.0858 - val_accuracy: 0.7061\n",
            "Epoch 7/10\n",
            "274/274 [==============================] - 12s 42ms/step - loss: 0.0201 - accuracy: 0.9936 - val_loss: 1.4957 - val_accuracy: 0.6263\n",
            "Epoch 8/10\n",
            "274/274 [==============================] - 12s 42ms/step - loss: 0.0132 - accuracy: 0.9961 - val_loss: 1.4067 - val_accuracy: 0.6901\n",
            "Epoch 9/10\n",
            "274/274 [==============================] - 11s 42ms/step - loss: 0.0125 - accuracy: 0.9962 - val_loss: 1.5343 - val_accuracy: 0.6512\n",
            "Epoch 10/10\n",
            "274/274 [==============================] - 12s 42ms/step - loss: 0.0062 - accuracy: 0.9978 - val_loss: 1.7678 - val_accuracy: 0.6531\n"
          ],
          "name": "stdout"
        },
        {
          "output_type": "execute_result",
          "data": {
            "text/plain": [
              "<tensorflow.python.keras.callbacks.History at 0x7f3a5e6a8cf8>"
            ]
          },
          "metadata": {
            "tags": []
          },
          "execution_count": 60
        }
      ]
    },
    {
      "cell_type": "code",
      "metadata": {
        "id": "1s8-BrvywplA",
        "colab_type": "code",
        "colab": {
          "base_uri": "https://localhost:8080/",
          "height": 545
        },
        "outputId": "96820482-b065-49b8-c1a3-6cb79e5f5053"
      },
      "source": [
        "hist = model.history.history\n",
        "acc = hist[\"accuracy\"]\n",
        "val_acc = hist[\"val_accuracy\"]\n",
        "loss = hist[\"loss\"]\n",
        "val_loss = hist[\"val_loss\"]\n",
        "epochs = range(1, len(acc) + 1)\n",
        "plt.plot(epochs, acc, 'bo', label='Training acc')\n",
        "plt.plot(epochs, val_acc, 'b', label='Validation acc')\n",
        "plt.title('Training and validation accuracy')\n",
        "plt.legend()\n",
        "plt.figure()\n",
        "plt.plot(epochs, loss, 'bo', label='Training loss')\n",
        "plt.plot(epochs, val_loss, 'b', label='Validation loss')\n",
        "plt.title('Training and validation loss')\n",
        "plt.legend()\n",
        "plt.show()"
      ],
      "execution_count": null,
      "outputs": [
        {
          "output_type": "display_data",
          "data": {
            "image/png": "[encoded data removed]",
            "text/plain": [
              "<Figure size 432x288 with 1 Axes>"
            ]
          },
          "metadata": {
            "tags": [],
            "needs_background": "light"
          }
        },
        {
          "output_type": "display_data",
          "data": {
            "image/png": "[encoded data removed]",
            "text/plain": [
              "<Figure size 432x288 with 1 Axes>"
            ]
          },
          "metadata": {
            "tags": [],
            "needs_background": "light"
          }
        }
      ]
    },
    {
      "cell_type": "code",
      "metadata": {
        "id": "hC6qWIizFBHr",
        "colab_type": "code",
        "colab": {
          "base_uri": "https://localhost:8080/",
          "height": 245
        },
        "outputId": "28cf34fe-8017-4034-eb02-cf1bc545eb97"
      },
      "source": [
        "model.add(layers.LSTM(64))\n",
        "model.summary()"
      ],
      "execution_count": 73,
      "outputs": [
        {
          "output_type": "stream",
          "text": [
            "Model: \"sequential_6\"\n",
            "_________________________________________________________________\n",
            "Layer (type)                 Output Shape              Param #   \n",
            "=================================================================\n",
            "embedding_6 (Embedding)      (None, 120, 64)           640000    \n",
            "_________________________________________________________________\n",
            "lstm_8 (LSTM)                (None, 64)                33024     \n",
            "=================================================================\n",
            "Total params: 673,024\n",
            "Trainable params: 673,024\n",
            "Non-trainable params: 0\n",
            "_________________________________________________________________\n"
          ],
          "name": "stdout"
        }
      ]
    },
    {
      "cell_type": "code",
      "metadata": {
        "id": "VzPtQqNcFDC9",
        "colab_type": "code",
        "colab": {
          "base_uri": "https://localhost:8080/",
          "height": 302
        },
        "outputId": "a9116d43-aea1-452c-f2b7-b2d01d668d3a"
      },
      "source": [
        "model.add(layers.Dense(1, activation=\"sigmoid\"))\n",
        "print(model.summary())\n",
        "model.compile(loss=\"binary_crossentropy\", optimizer=\"adam\", metrics=[\"acc\"])"
      ],
      "execution_count": 74,
      "outputs": [
        {
          "output_type": "stream",
          "text": [
            "Model: \"sequential_6\"\n",
            "_________________________________________________________________\n",
            "Layer (type)                 Output Shape              Param #   \n",
            "=================================================================\n",
            "embedding_6 (Embedding)      (None, 120, 64)           640000    \n",
            "_________________________________________________________________\n",
            "lstm_8 (LSTM)                (None, 64)                33024     \n",
            "_________________________________________________________________\n",
            "dense_1 (Dense)              (None, 1)                 65        \n",
            "=================================================================\n",
            "Total params: 673,089\n",
            "Trainable params: 673,089\n",
            "Non-trainable params: 0\n",
            "_________________________________________________________________\n",
            "None\n"
          ],
          "name": "stdout"
        }
      ]
    },
    {
      "cell_type": "code",
      "metadata": {
        "id": "x-U6HK6oFDzL",
        "colab_type": "code",
        "colab": {
          "base_uri": "https://localhost:8080/",
          "height": 397
        },
        "outputId": "e3c7f1eb-a624-4837-9157-eb88e80c83be"
      },
      "source": [
        "hist = model.fit(data, labels, epochs=10, validation_split=0.3)"
      ],
      "execution_count": 75,
      "outputs": [
        {
          "output_type": "stream",
          "text": [
            "Epoch 1/10\n",
            "547/547 [==============================] - 46s 83ms/step - loss: 0.4025 - acc: 0.8223 - val_loss: 0.4742 - val_acc: 0.8123\n",
            "Epoch 2/10\n",
            "547/547 [==============================] - 46s 84ms/step - loss: 0.2305 - acc: 0.9097 - val_loss: 0.6411 - val_acc: 0.7361\n",
            "Epoch 3/10\n",
            "547/547 [==============================] - 46s 84ms/step - loss: 0.1599 - acc: 0.9430 - val_loss: 0.8895 - val_acc: 0.7268\n",
            "Epoch 4/10\n",
            "547/547 [==============================] - 46s 85ms/step - loss: 0.1139 - acc: 0.9604 - val_loss: 0.6462 - val_acc: 0.7639\n",
            "Epoch 5/10\n",
            "547/547 [==============================] - 46s 84ms/step - loss: 0.0847 - acc: 0.9718 - val_loss: 0.9207 - val_acc: 0.7137\n",
            "Epoch 6/10\n",
            "547/547 [==============================] - 47s 85ms/step - loss: 0.0640 - acc: 0.9800 - val_loss: 1.1925 - val_acc: 0.7028\n",
            "Epoch 7/10\n",
            "547/547 [==============================] - 46s 84ms/step - loss: 0.0439 - acc: 0.9870 - val_loss: 0.9063 - val_acc: 0.7829\n",
            "Epoch 8/10\n",
            "547/547 [==============================] - 46s 85ms/step - loss: 0.0472 - acc: 0.9855 - val_loss: 1.2555 - val_acc: 0.7357\n",
            "Epoch 9/10\n",
            "547/547 [==============================] - 46s 84ms/step - loss: 0.0325 - acc: 0.9905 - val_loss: 1.5585 - val_acc: 0.6963\n",
            "Epoch 10/10\n",
            "547/547 [==============================] - 46s 84ms/step - loss: 0.0363 - acc: 0.9889 - val_loss: 1.0381 - val_acc: 0.7449\n"
          ],
          "name": "stdout"
        }
      ]
    },
    {
      "cell_type": "code",
      "metadata": {
        "id": "I33uyy7lJvLZ",
        "colab_type": "code",
        "colab": {
          "base_uri": "https://localhost:8080/",
          "height": 545
        },
        "outputId": "31818549-0743-4656-b133-5b5d2896bc53"
      },
      "source": [
        "hist = model.history.history\n",
        "acc = hist[\"acc\"]\n",
        "val_acc = hist[\"val_acc\"]\n",
        "loss = hist[\"loss\"]\n",
        "val_loss = hist[\"val_loss\"]\n",
        "epochs = range(1, len(acc) + 1)\n",
        "plt.plot(epochs, acc, 'bo', label='Training acc')\n",
        "plt.plot(epochs, val_acc, 'b', label='Validation acc')\n",
        "plt.title('Training and validation accuracy')\n",
        "plt.legend()\n",
        "plt.figure()\n",
        "plt.plot(epochs, loss, 'bo', label='Training loss')\n",
        "plt.plot(epochs, val_loss, 'b', label='Validation loss')\n",
        "plt.title('Training and validation loss')\n",
        "plt.legend()\n",
        "plt.show()"
      ],
      "execution_count": 79,
      "outputs": [
        {
          "output_type": "display_data",
          "data": {
            "image/png": "[encoded data removed]",
            "text/plain": [
              "<Figure size 432x288 with 1 Axes>"
            ]
          },
          "metadata": {
            "tags": [],
            "needs_background": "light"
          }
        },
        {
          "output_type": "display_data",
          "data": {
            "image/png": "[encoded data removed]",
            "text/plain": [
              "<Figure size 432x288 with 1 Axes>"
            ]
          },
          "metadata": {
            "tags": [],
            "needs_background": "light"
          }
        }
      ]
    },
    {
      "cell_type": "code",
      "metadata": {
        "id": "7DBwvtCwFET6",
        "colab_type": "code",
        "colab": {
          "base_uri": "https://localhost:8080/",
          "height": 55
        },
        "outputId": "2e913a7e-e0ad-41ab-ab18-d0e06131e4fd"
      },
      "source": [
        "model.evaluate(data, labels)"
      ],
      "execution_count": 80,
      "outputs": [
        {
          "output_type": "stream",
          "text": [
            "782/782 [==============================] - 13s 17ms/step - loss: 0.3260 - acc: 0.9211\n"
          ],
          "name": "stdout"
        },
        {
          "output_type": "execute_result",
          "data": {
            "text/plain": [
              "[0.3259793519973755, 0.9211199879646301]"
            ]
          },
          "metadata": {
            "tags": []
          },
          "execution_count": 80
        }
      ]
    },
    {
      "cell_type": "code",
      "metadata": {
        "id": "M9YdsoATFEyW",
        "colab_type": "code",
        "colab": {}
      },
      "source": [
        "text = [\"Movie is so bad it sucks ass.\"]\n",
        "token = tokenizer.texts_to_sequences(text)"
      ],
      "execution_count": 84,
      "outputs": []
    },
    {
      "cell_type": "code",
      "metadata": {
        "id": "8MagL-Mnw3qL",
        "colab_type": "code",
        "colab": {
          "base_uri": "https://localhost:8080/",
          "height": 207
        },
        "outputId": "a870da5e-98cf-428d-fe02-ebfbdb747c1a"
      },
      "source": [
        "pad_token = pad_sequences(token, maxlen=max_len)\n",
        "print(pad_token)\n",
        "print(len(pad_token[0]))"
      ],
      "execution_count": 86,
      "outputs": [
        {
          "output_type": "stream",
          "text": [
            "[[   0    0    0    0    0    0    0    0    0    0    0    0    0    0\n",
            "     0    0    0    0    0    0    0    0    0    0    0    0    0    0\n",
            "     0    0    0    0    0    0    0    0    0    0    0    0    0    0\n",
            "     0    0    0    0    0    0    0    0    0    0    0    0    0    0\n",
            "     0    0    0    0    0    0    0    0    0    0    0    0    0    0\n",
            "     0    0    0    0    0    0    0    0    0    0    0    0    0    0\n",
            "     0    0    0    0    0    0    0    0    0    0    0    0    0    0\n",
            "     0    0    0    0    0    0    0    0    0    0    0    0    0    0\n",
            "     0   16    6   34   75    8 1871 1993]]\n",
            "120\n"
          ],
          "name": "stdout"
        }
      ]
    },
    {
      "cell_type": "code",
      "metadata": {
        "id": "f9hcTwoJWvrS",
        "colab_type": "code",
        "colab": {
          "base_uri": "https://localhost:8080/",
          "height": 36
        },
        "outputId": "df189cc3-e77d-4388-e94b-09a872929a6b"
      },
      "source": [
        "test_in = np.asarray(pad_token)\n",
        "test_in.shape"
      ],
      "execution_count": 87,
      "outputs": [
        {
          "output_type": "execute_result",
          "data": {
            "text/plain": [
              "(1, 120)"
            ]
          },
          "metadata": {
            "tags": []
          },
          "execution_count": 87
        }
      ]
    },
    {
      "cell_type": "code",
      "metadata": {
        "id": "fmotAElVW5mY",
        "colab_type": "code",
        "colab": {
          "base_uri": "https://localhost:8080/",
          "height": 36
        },
        "outputId": "c29c9e43-a482-4b07-836d-5551455af053"
      },
      "source": [
        "model.predict(test_in)"
      ],
      "execution_count": 88,
      "outputs": [
        {
          "output_type": "execute_result",
          "data": {
            "text/plain": [
              "array([[0.02371991]], dtype=float32)"
            ]
          },
          "metadata": {
            "tags": []
          },
          "execution_count": 88
        }
      ]
    },
    {
      "cell_type": "code",
      "metadata": {
        "id": "ZqXpi8VSXHDT",
        "colab_type": "code",
        "colab": {
          "base_uri": "https://localhost:8080/",
          "height": 245
        },
        "outputId": "79a64ce2-b81f-4426-d242-daeb2ebea97b"
      },
      "source": [
        "text = [\"The movie blew my mind it was very good.\"]\n",
        "token = tokenizer.texts_to_sequences(text)\n",
        "pad_token = pad_sequences(token, maxlen=max_len)\n",
        "print(pad_token)\n",
        "print(len(pad_token[0]))\n",
        "test_in = np.asarray(pad_token)\n",
        "print(test_in.shape)\n",
        "print(model.predict(test_in))"
      ],
      "execution_count": 89,
      "outputs": [
        {
          "output_type": "stream",
          "text": [
            "[[   0    0    0    0    0    0    0    0    0    0    0    0    0    0\n",
            "     0    0    0    0    0    0    0    0    0    0    0    0    0    0\n",
            "     0    0    0    0    0    0    0    0    0    0    0    0    0    0\n",
            "     0    0    0    0    0    0    0    0    0    0    0    0    0    0\n",
            "     0    0    0    0    0    0    0    0    0    0    0    0    0    0\n",
            "     0    0    0    0    0    0    0    0    0    0    0    0    0    0\n",
            "     0    0    0    0    0    0    0    0    0    0    0    0    0    0\n",
            "     0    0    0    0    0    0    0    0    0    0    0    0    0    1\n",
            "    16 4279   57  326    8   12   51   48]]\n",
            "120\n",
            "(1, 120)\n",
            "[[0.9892069]]\n"
          ],
          "name": "stdout"
        }
      ]
    },
    {
      "cell_type": "code",
      "metadata": {
        "id": "q3CStj47Xbq9",
        "colab_type": "code",
        "colab": {
          "base_uri": "https://localhost:8080/",
          "height": 169
        },
        "outputId": "e9664bd5-b9c8-431e-e47e-8c1f701b29bc"
      },
      "source": [
        "text = [\"The movie was not so good but it is watchablem.\"]\n",
        "token = tokenizer.texts_to_sequences(text)\n",
        "pad_token = pad_sequences(token, maxlen=max_len)\n",
        "print(pad_token)\n",
        "print(len(pad_token[0]))\n",
        "test_in = np.asarray(pad_token)\n",
        "print(test_in.shape)\n",
        "print(model.predict(test_in))"
      ],
      "execution_count": 90,
      "outputs": [
        {
          "output_type": "stream",
          "text": [
            "[[ 0  0  0  0  0  0  0  0  0  0  0  0  0  0  0  0  0  0  0  0  0  0  0  0\n",
            "   0  0  0  0  0  0  0  0  0  0  0  0  0  0  0  0  0  0  0  0  0  0  0  0\n",
            "   0  0  0  0  0  0  0  0  0  0  0  0  0  0  0  0  0  0  0  0  0  0  0  0\n",
            "   0  0  0  0  0  0  0  0  0  0  0  0  0  0  0  0  0  0  0  0  0  0  0  0\n",
            "   0  0  0  0  0  0  0  0  0  0  0  0  0  0  0  1 16 12 20 34 48 17  8  6]]\n",
            "120\n",
            "(1, 120)\n",
            "[[0.61921746]]\n"
          ],
          "name": "stdout"
        }
      ]
    },
    {
      "cell_type": "code",
      "metadata": {
        "id": "qLqw-K6iXkfu",
        "colab_type": "code",
        "colab": {
          "base_uri": "https://localhost:8080/",
          "height": 245
        },
        "outputId": "d082a1bd-6cf2-4d33-bac1-dff86dcd0bd4"
      },
      "source": [
        "text = [\"The movie is so horrible that i died and went to hell.\"]\n",
        "token = tokenizer.texts_to_sequences(text)\n",
        "pad_token = pad_sequences(token, maxlen=max_len)\n",
        "print(pad_token)\n",
        "print(len(pad_token[0]))\n",
        "test_in = np.asarray(pad_token)\n",
        "print(test_in.shape)\n",
        "print(model.predict(test_in))"
      ],
      "execution_count": 91,
      "outputs": [
        {
          "output_type": "stream",
          "text": [
            "[[   0    0    0    0    0    0    0    0    0    0    0    0    0    0\n",
            "     0    0    0    0    0    0    0    0    0    0    0    0    0    0\n",
            "     0    0    0    0    0    0    0    0    0    0    0    0    0    0\n",
            "     0    0    0    0    0    0    0    0    0    0    0    0    0    0\n",
            "     0    0    0    0    0    0    0    0    0    0    0    0    0    0\n",
            "     0    0    0    0    0    0    0    0    0    0    0    0    0    0\n",
            "     0    0    0    0    0    0    0    0    0    0    0    0    0    0\n",
            "     0    0    0    0    0    0    0    0    0    0    1   16    6   34\n",
            "   523   11    9 1127    2  431    5  605]]\n",
            "120\n",
            "(1, 120)\n",
            "[[0.11269259]]\n"
          ],
          "name": "stdout"
        }
      ]
    },
    {
      "cell_type": "code",
      "metadata": {
        "id": "m5c1tkxrXv-x",
        "colab_type": "code",
        "colab": {
          "base_uri": "https://localhost:8080/",
          "height": 245
        },
        "outputId": "9f776b3b-6703-40a5-9e5d-bd1e2b36f216"
      },
      "source": [
        "text = [\"Incredible performance amazing actors, and superb direction \"]\n",
        "token = tokenizer.texts_to_sequences(text)\n",
        "pad_token = pad_sequences(token, maxlen=max_len)\n",
        "print(pad_token)\n",
        "print(len(pad_token[0]))\n",
        "test_in = np.asarray(pad_token)\n",
        "print(test_in.shape)\n",
        "print(model.predict(test_in))"
      ],
      "execution_count": 92,
      "outputs": [
        {
          "output_type": "stream",
          "text": [
            "[[   0    0    0    0    0    0    0    0    0    0    0    0    0    0\n",
            "     0    0    0    0    0    0    0    0    0    0    0    0    0    0\n",
            "     0    0    0    0    0    0    0    0    0    0    0    0    0    0\n",
            "     0    0    0    0    0    0    0    0    0    0    0    0    0    0\n",
            "     0    0    0    0    0    0    0    0    0    0    0    0    0    0\n",
            "     0    0    0    0    0    0    0    0    0    0    0    0    0    0\n",
            "     0    0    0    0    0    0    0    0    0    0    0    0    0    0\n",
            "     0    0    0    0    0    0    0    0    0    0    0    0    0    0\n",
            "     0 1045  235  476  152    2  895  459]]\n",
            "120\n",
            "(1, 120)\n",
            "[[0.99547344]]\n"
          ],
          "name": "stdout"
        }
      ]
    },
    {
      "cell_type": "code",
      "metadata": {
        "id": "k6XBwt8VX6wz",
        "colab_type": "code",
        "colab": {}
      },
      "source": [
        "#evalutate with test data\n",
        "import os\n",
        "test_labels = []\n",
        "test_texts = []\n",
        "for i in os.listdir(\"/content/aclImdb/test/neg\"):\n",
        "    f = open(\"/content/aclImdb/test/neg/\"+i, \"r\")\n",
        "    str1 = f.read()\n",
        "    str1 = cleanhtml(str1)\n",
        "    test_texts.append(str1)\n",
        "    test_labels.append(0)\n",
        "for i in os.listdir(\"/content/aclImdb/test/pos\"):\n",
        "    f = open(\"/content/aclImdb/test/pos/\"+i, \"r\")\n",
        "    str1 = f.read()\n",
        "    str1 = cleanhtml(str1)\n",
        "    test_texts.append(str1)\n",
        "    test_labels.append(1)\n",
        "test_txt = tokenizer.texts_to_sequences(test_texts )\n",
        "test_txt = pad_sequences(test_txt, maxlen=max_len)\n",
        "test_lbl = np.asarray(test_labels)\n",
        "test_txt = np.asarray(test_txt)"
      ],
      "execution_count": 96,
      "outputs": []
    },
    {
      "cell_type": "code",
      "metadata": {
        "id": "eanKQjfYZYxi",
        "colab_type": "code",
        "colab": {
          "base_uri": "https://localhost:8080/",
          "height": 36
        },
        "outputId": "082a602a-4a82-4935-a4cb-66efbd472a64"
      },
      "source": [
        "print(len(test_txt))"
      ],
      "execution_count": 99,
      "outputs": [
        {
          "output_type": "stream",
          "text": [
            "25000\n"
          ],
          "name": "stdout"
        }
      ]
    },
    {
      "cell_type": "code",
      "metadata": {
        "id": "wawsHj93ZvuW",
        "colab_type": "code",
        "colab": {
          "base_uri": "https://localhost:8080/",
          "height": 36
        },
        "outputId": "0563f508-0b6f-4964-854b-c459a1173d29"
      },
      "source": [
        "print(len(test_lbl))"
      ],
      "execution_count": 100,
      "outputs": [
        {
          "output_type": "stream",
          "text": [
            "25000\n"
          ],
          "name": "stdout"
        }
      ]
    },
    {
      "cell_type": "code",
      "metadata": {
        "id": "g82gWFI_Zwp4",
        "colab_type": "code",
        "colab": {
          "base_uri": "https://localhost:8080/",
          "height": 55
        },
        "outputId": "64c6f84a-2a68-4afa-eacb-14e1fa1adb2b"
      },
      "source": [
        "model.evaluate(test_txt, test_lbl)"
      ],
      "execution_count": 101,
      "outputs": [
        {
          "output_type": "stream",
          "text": [
            "782/782 [==============================] - 13s 17ms/step - loss: 0.7541 - acc: 0.8097\n"
          ],
          "name": "stdout"
        },
        {
          "output_type": "execute_result",
          "data": {
            "text/plain": [
              "[0.7540881037712097, 0.8096799850463867]"
            ]
          },
          "metadata": {
            "tags": []
          },
          "execution_count": 101
        }
      ]
    },
    {
      "cell_type": "code",
      "metadata": {
        "id": "o10mt-SMZ5_a",
        "colab_type": "code",
        "colab": {}
      },
      "source": [
        ""
      ],
      "execution_count": null,
      "outputs": []
    }
  ]
}